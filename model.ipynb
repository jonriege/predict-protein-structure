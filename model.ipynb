{
 "cells": [
  {
   "cell_type": "markdown",
   "id": "confident-ottawa",
   "metadata": {},
   "source": [
    "## Load dataset"
   ]
  },
  {
   "cell_type": "code",
   "execution_count": 1,
   "id": "comprehensive-pasta",
   "metadata": {},
   "outputs": [],
   "source": [
    "import json\n",
    "\n",
    "with open('data/data.json', 'r') as file:\n",
    "    data = json.load(file)"
   ]
  },
  {
   "cell_type": "markdown",
   "id": "effective-charleston",
   "metadata": {},
   "source": [
    "## Define model"
   ]
  },
  {
   "cell_type": "code",
   "execution_count": 68,
   "id": "rolled-thong",
   "metadata": {},
   "outputs": [],
   "source": [
    "import numpy as np\n",
    "from sklearn.tree import DecisionTreeClassifier\n",
    "\n",
    "amino_acids = 'ARNDCQEGHILKMFPSTWYV'\n",
    "empty_acid = np.zeros(20)\n",
    "\n",
    "def one_hot_encode_sequence(sequence):\n",
    "    indices = [amino_acids.index(a) for a in sequence]\n",
    "    array = np.zeros((len(sequence), 20))\n",
    "    array[np.arange(len(sequence)), indices] = 1\n",
    "    return array\n",
    "\n",
    "\n",
    "class Model:\n",
    "    \n",
    "    def __init__(self):\n",
    "        self.tree = DecisionTreeClassifier()\n",
    "    \n",
    "    def _preprocess_sequence(self, sequence):\n",
    "        n_acids = len(sequence)\n",
    "        sequence = one_hot_encode_sequence(sequence)\n",
    "        X = []\n",
    "        for i in range(n_acids):\n",
    "            indices = np.arange(i-4, i+5)\n",
    "            x = np.array([empty_acid if j < 0 or j >= n_acids else sequence[j] for j in indices])\n",
    "            X.append(x.flatten())\n",
    "        return X\n",
    "        \n",
    "    \n",
    "    def _preprocess_sequences(self, data):\n",
    "        X = []\n",
    "        for protein_dict in data:\n",
    "            sequence = protein_dict['sequence']\n",
    "            _X = self._preprocess_sequence(sequence)\n",
    "            X.extend(_X)\n",
    "        return np.array(X)\n",
    "    \n",
    "    \n",
    "    def _preprocess_labels(self, data):\n",
    "        joined_labels = ''.join([p['labels'] for p in data])\n",
    "        y = [l for l in joined_labels]\n",
    "        return np.array(y)\n",
    "    \n",
    "    \n",
    "    def fit(self, data):\n",
    "        X = self._preprocess_sequences(data)\n",
    "        y = self._preprocess_labels(data)\n",
    "        self.tree.fit(X, y)\n",
    "    \n",
    "    def predict(self, sequence):\n",
    "        X = self._preprocess_sequence(sequence)\n",
    "        preds = self.tree.predict(X)\n",
    "        return ''.join(preds)"
   ]
  },
  {
   "cell_type": "markdown",
   "id": "random-purse",
   "metadata": {},
   "source": [
    "## Perform LOOCV"
   ]
  },
  {
   "cell_type": "code",
   "execution_count": 73,
   "id": "laden-cricket",
   "metadata": {},
   "outputs": [],
   "source": [
    "model = Model()\n",
    "\n",
    "for i, protein_dict in enumerate(data):\n",
    "    sequence = protein_dict['sequence']\n",
    "    training_data = data[:i] + data[i+1:]\n",
    "    model.fit(training_data)\n",
    "    preds = model.predict(sequence)\n",
    "    data[i]['preds'] =  preds"
   ]
  },
  {
   "cell_type": "markdown",
   "id": "african-enemy",
   "metadata": {},
   "source": [
    "## Store the predictions in the JSON file"
   ]
  },
  {
   "cell_type": "code",
   "execution_count": 75,
   "id": "immediate-virgin",
   "metadata": {},
   "outputs": [],
   "source": [
    "import json\n",
    "\n",
    "with open('data/data.json', 'w', encoding='utf-8') as f:\n",
    "    json.dump(data, f, ensure_ascii=False, indent=4)"
   ]
  }
 ],
 "metadata": {
  "kernelspec": {
   "display_name": "Python 3",
   "language": "python",
   "name": "python3"
  },
  "language_info": {
   "codemirror_mode": {
    "name": "ipython",
    "version": 3
   },
   "file_extension": ".py",
   "mimetype": "text/x-python",
   "name": "python",
   "nbconvert_exporter": "python",
   "pygments_lexer": "ipython3",
   "version": "3.9.1"
  }
 },
 "nbformat": 4,
 "nbformat_minor": 5
}
