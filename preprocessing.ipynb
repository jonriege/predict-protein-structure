{
 "cells": [
  {
   "cell_type": "markdown",
   "id": "romance-electronics",
   "metadata": {},
   "source": [
    "## Load original data"
   ]
  },
  {
   "cell_type": "code",
   "execution_count": 38,
   "id": "robust-acquisition",
   "metadata": {},
   "outputs": [],
   "source": [
    "dataset_paths = [\n",
    "    'data/original/protein-secondary-structure.train',\n",
    "    'data/original/protein-secondary-structure.test'\n",
    "]\n",
    "\n",
    "\n",
    "def process_line(data, protein_dict, line):\n",
    "    line = line.strip()\n",
    "    \n",
    "    # Do nothing for empty lines and comments\n",
    "    if len(line) == 0 or line.startswith('#'):\n",
    "        return protein_dict\n",
    "    \n",
    "    # End of current protein\n",
    "    if 'end' in line:\n",
    "        \n",
    "        # Only include proteins with >= 20 amino acids\n",
    "        if len(protein_dict['sequence']) >= 20:\n",
    "            data.append(protein_dict)       \n",
    "        return None\n",
    "    \n",
    "    # New protein (and possibly end of current protein)\n",
    "    if line.startswith('<>'):\n",
    "        if protein_dict is not None and len(protein_dict['sequence']) >= 20:\n",
    "            data.append(protein_dict) \n",
    "        return {'sequence': '', 'labels': ''}\n",
    "    \n",
    "    amino_acid, label = line.split()\n",
    "    protein_dict['sequence'] += amino_acid\n",
    "    protein_dict['labels'] += label\n",
    "    return protein_dict\n",
    "\n",
    "\n",
    "data = []\n",
    "\n",
    "for dataset_path in dataset_paths:\n",
    "    with open(dataset_path, 'r') as file:\n",
    "        protein_dict = None\n",
    "        for line in file:\n",
    "            protein_dict = process_line(data, protein_dict, line)"
   ]
  },
  {
   "cell_type": "markdown",
   "id": "foreign-payroll",
   "metadata": {},
   "source": [
    "## Save sequences in FASTA format"
   ]
  },
  {
   "cell_type": "code",
   "execution_count": 25,
   "id": "centered-borough",
   "metadata": {},
   "outputs": [],
   "source": [
    "import re\n",
    "\n",
    "with open('data/data.fasta', 'w') as f:\n",
    "    for i, item in enumerate(data):\n",
    "        sequence =  re.sub(\"(.{80})\", \"\\\\1\\n\", item['sequence'], 0, re.DOTALL)\n",
    "        f.write(f'>SEQUENCE_{i + 1}\\n{sequence}\\n')"
   ]
  },
  {
   "cell_type": "markdown",
   "id": "stupid-credits",
   "metadata": {},
   "source": [
    "## Parse output from JPred4"
   ]
  },
  {
   "cell_type": "code",
   "execution_count": 51,
   "id": "premier-trash",
   "metadata": {},
   "outputs": [],
   "source": [
    "from pathlib import Path\n",
    "\n",
    "jpred4_dir = Path('data/jpred4')\n",
    "for output_dir in jpred4_dir.iterdir():\n",
    "    seq_name = next(f.stem for f in output_dir.iterdir() if f.stem.startswith('SEQUENCE'))\n",
    "    index = int(seq_name.split('_')[1]) - 1\n",
    "    \n",
    "    dir_name = output_dir.name\n",
    "    preds_path = output_dir.joinpath(f'{dir_name}.concise')\n",
    "    \n",
    "    with open(preds_path, 'r') as f:\n",
    "        for line in f:\n",
    "            if line.startswith('jnetpred'):\n",
    "                preds = line.strip()\n",
    "                break\n",
    "    \n",
    "    \n",
    "    preds = preds.replace('jnetpred:', '')\n",
    "    preds = preds.replace(',', '')\n",
    "    preds = preds.replace('-', '_')\n",
    "    preds = preds.lower()\n",
    "    data[index]['jpred4'] = preds"
   ]
  },
  {
   "cell_type": "markdown",
   "id": "initial-plaza",
   "metadata": {},
   "source": [
    "## Save sequences, labels and JPred4 predictions in JSON format"
   ]
  },
  {
   "cell_type": "code",
   "execution_count": 53,
   "id": "finished-conference",
   "metadata": {},
   "outputs": [],
   "source": [
    "import json\n",
    "\n",
    "with open('data/data.json', 'w', encoding='utf-8') as f:\n",
    "    json.dump(data, f, ensure_ascii=False, indent=4)"
   ]
  },
  {
   "cell_type": "code",
   "execution_count": null,
   "id": "completed-kernel",
   "metadata": {},
   "outputs": [],
   "source": []
  }
 ],
 "metadata": {
  "kernelspec": {
   "display_name": "Python 3",
   "language": "python",
   "name": "python3"
  },
  "language_info": {
   "codemirror_mode": {
    "name": "ipython",
    "version": 3
   },
   "file_extension": ".py",
   "mimetype": "text/x-python",
   "name": "python",
   "nbconvert_exporter": "python",
   "pygments_lexer": "ipython3",
   "version": "3.9.1"
  }
 },
 "nbformat": 4,
 "nbformat_minor": 5
}
