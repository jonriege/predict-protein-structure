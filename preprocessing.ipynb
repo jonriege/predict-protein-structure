{
 "cells": [
  {
   "cell_type": "markdown",
   "id": "romance-electronics",
   "metadata": {},
   "source": [
    "## Load original data"
   ]
  },
  {
   "cell_type": "code",
   "execution_count": null,
   "id": "robust-acquisition",
   "metadata": {},
   "outputs": [],
   "source": [
    "dataset_paths = [\n",
    "    'data/original/protein-secondary-structure.train',\n",
    "    'data/original/protein-secondary-structure.test'\n",
    "]\n",
    "\n",
    "\n",
    "def process_line(data, protein_dict, line):\n",
    "    line = line.strip()\n",
    "    \n",
    "    # Do nothing for empty lines and comments\n",
    "    if len(line) == 0 or line.startswith('#'):\n",
    "        return protein_dict\n",
    "    \n",
    "    # End of current protein\n",
    "    if 'end' in line:\n",
    "        \n",
    "        # Only include proteins with >= 20 amino acids\n",
    "        if len(protein_dict['sequence']) >= 20:\n",
    "            data.append(protein_dict)       \n",
    "        return None\n",
    "    \n",
    "    # New protein (and possibly end of current protein)\n",
    "    if line.startswith('<>'):\n",
    "        if protein_dict is not None and len(protein_dict['sequence']) >= 20:\n",
    "            data.append(protein_dict) \n",
    "        return {'sequence': '', 'labels': ''}\n",
    "    \n",
    "    amino_acid, label = line.split()\n",
    "    protein_dict['sequence'] += amino_acid\n",
    "    protein_dict['labels'] += label\n",
    "    return protein_dict\n",
    "\n",
    "\n",
    "data = []\n",
    "\n",
    "for dataset_path in dataset_paths:\n",
    "    with open(dataset_path, 'r') as file:\n",
    "        protein_dict = None\n",
    "        for line in file:\n",
    "            protein_dict = process_line(data, protein_dict, line)"
   ]
  },
  {
   "cell_type": "markdown",
   "id": "august-extent",
   "metadata": {},
   "source": [
    "## Save sequences and labels in JSON format"
   ]
  },
  {
   "cell_type": "code",
   "execution_count": 24,
   "id": "handy-springer",
   "metadata": {},
   "outputs": [],
   "source": [
    "import json\n",
    "with open('data/data.json', 'w', encoding='utf-8') as f:\n",
    "    json.dump(data, f, ensure_ascii=False, indent=4)"
   ]
  },
  {
   "cell_type": "markdown",
   "id": "foreign-payroll",
   "metadata": {},
   "source": [
    "## Save sequences in FASTA format"
   ]
  },
  {
   "cell_type": "code",
   "execution_count": 25,
   "id": "centered-borough",
   "metadata": {},
   "outputs": [],
   "source": [
    "import re\n",
    "\n",
    "with open('data/data.fasta', 'w') as f:\n",
    "    for i, item in enumerate(data):\n",
    "        sequence =  re.sub(\"(.{80})\", \"\\\\1\\n\", item['sequence'], 0, re.DOTALL)\n",
    "        f.write(f'>SEQUENCE_{i + 1}\\n{sequence}\\n')"
   ]
  },
  {
   "cell_type": "markdown",
   "id": "stupid-credits",
   "metadata": {},
   "source": [
    "## Parse output from JPred4"
   ]
  },
  {
   "cell_type": "code",
   "execution_count": 37,
   "id": "premier-trash",
   "metadata": {},
   "outputs": [],
   "source": [
    "from pathlib import Path\n",
    "\n",
    "jpred4_dir = Path('data/jpred4')\n",
    "for output_dir in jpred4_dir.iterdir():\n",
    "    seq_name = next(f.stem for f in output_dir.iterdir() if f.suffix == '.name')\n",
    "\n",
    "    dir_name = output_dir.name\n",
    "    preds_path = output_dir.joinpath(f'{dir_name}.concise')\n",
    "    \n",
    "    big_file = output_dir.joinpath(f'{dir_name}.full_MSA.fasta')\n",
    "    big_file.unlink()"
   ]
  },
  {
   "cell_type": "code",
   "execution_count": null,
   "id": "finished-conference",
   "metadata": {},
   "outputs": [],
   "source": []
  }
 ],
 "metadata": {
  "kernelspec": {
   "display_name": "Python 3",
   "language": "python",
   "name": "python3"
  },
  "language_info": {
   "codemirror_mode": {
    "name": "ipython",
    "version": 3
   },
   "file_extension": ".py",
   "mimetype": "text/x-python",
   "name": "python",
   "nbconvert_exporter": "python",
   "pygments_lexer": "ipython3",
   "version": "3.9.1"
  }
 },
 "nbformat": 4,
 "nbformat_minor": 5
}
